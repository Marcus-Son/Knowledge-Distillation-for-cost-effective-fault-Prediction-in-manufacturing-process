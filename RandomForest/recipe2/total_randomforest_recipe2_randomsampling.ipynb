{
 "cells": [
  {
   "cell_type": "markdown",
   "metadata": {},
   "source": [
    "## Baseline-Random Selection"
   ]
  },
  {
   "cell_type": "code",
   "execution_count": 3,
   "metadata": {},
   "outputs": [
    {
     "name": "stdout",
     "output_type": "stream",
     "text": [
      "/home/iai/son/heo_jun/RF_new/recipe1/rf_module\n"
     ]
    },
    {
     "name": "stderr",
     "output_type": "stream",
     "text": [
      "/home/iai/anaconda3/envs/son/lib/python3.9/site-packages/sklearn/base.py:1151: DataConversionWarning: A column-vector y was passed when a 1d array was expected. Please change the shape of y to (n_samples,), for example using ravel().\n",
      "  return fit_method(estimator, *args, **kwargs)\n",
      "/home/iai/anaconda3/envs/son/lib/python3.9/site-packages/sklearn/base.py:1151: DataConversionWarning: A column-vector y was passed when a 1d array was expected. Please change the shape of y to (n_samples,), for example using ravel().\n",
      "  return fit_method(estimator, *args, **kwargs)\n"
     ]
    },
    {
     "name": "stdout",
     "output_type": "stream",
     "text": [
      "Random State가  1  일 때  Baseline model:  0.6957793005029183\n",
      "Random State가  1  일 때  Advance model:  0.7381768910306123\n"
     ]
    },
    {
     "name": "stderr",
     "output_type": "stream",
     "text": [
      "/home/iai/anaconda3/envs/son/lib/python3.9/site-packages/sklearn/base.py:1151: DataConversionWarning: A column-vector y was passed when a 1d array was expected. Please change the shape of y to (n_samples,), for example using ravel().\n",
      "  return fit_method(estimator, *args, **kwargs)\n",
      "/home/iai/anaconda3/envs/son/lib/python3.9/site-packages/sklearn/base.py:1151: DataConversionWarning: A column-vector y was passed when a 1d array was expected. Please change the shape of y to (n_samples,), for example using ravel().\n",
      "  return fit_method(estimator, *args, **kwargs)\n"
     ]
    },
    {
     "name": "stdout",
     "output_type": "stream",
     "text": [
      "Random State가  2  일 때  Baseline model:  0.6964865879879165\n",
      "Random State가  2  일 때  Advance model:  0.7316193448713095\n"
     ]
    },
    {
     "name": "stderr",
     "output_type": "stream",
     "text": [
      "/home/iai/anaconda3/envs/son/lib/python3.9/site-packages/sklearn/base.py:1151: DataConversionWarning: A column-vector y was passed when a 1d array was expected. Please change the shape of y to (n_samples,), for example using ravel().\n",
      "  return fit_method(estimator, *args, **kwargs)\n",
      "/home/iai/anaconda3/envs/son/lib/python3.9/site-packages/sklearn/base.py:1151: DataConversionWarning: A column-vector y was passed when a 1d array was expected. Please change the shape of y to (n_samples,), for example using ravel().\n",
      "  return fit_method(estimator, *args, **kwargs)\n"
     ]
    },
    {
     "name": "stdout",
     "output_type": "stream",
     "text": [
      "Random State가  3  일 때  Baseline model:  0.697403564666415\n",
      "Random State가  3  일 때  Advance model:  0.7353794612984371\n"
     ]
    },
    {
     "name": "stderr",
     "output_type": "stream",
     "text": [
      "/home/iai/anaconda3/envs/son/lib/python3.9/site-packages/sklearn/base.py:1151: DataConversionWarning: A column-vector y was passed when a 1d array was expected. Please change the shape of y to (n_samples,), for example using ravel().\n",
      "  return fit_method(estimator, *args, **kwargs)\n",
      "/home/iai/anaconda3/envs/son/lib/python3.9/site-packages/sklearn/base.py:1151: DataConversionWarning: A column-vector y was passed when a 1d array was expected. Please change the shape of y to (n_samples,), for example using ravel().\n",
      "  return fit_method(estimator, *args, **kwargs)\n"
     ]
    },
    {
     "name": "stdout",
     "output_type": "stream",
     "text": [
      "Random State가  4  일 때  Baseline model:  0.6772238434218723\n",
      "Random State가  4  일 때  Advance model:  0.7017344370236669\n"
     ]
    },
    {
     "name": "stderr",
     "output_type": "stream",
     "text": [
      "/home/iai/anaconda3/envs/son/lib/python3.9/site-packages/sklearn/base.py:1151: DataConversionWarning: A column-vector y was passed when a 1d array was expected. Please change the shape of y to (n_samples,), for example using ravel().\n",
      "  return fit_method(estimator, *args, **kwargs)\n",
      "/home/iai/anaconda3/envs/son/lib/python3.9/site-packages/sklearn/base.py:1151: DataConversionWarning: A column-vector y was passed when a 1d array was expected. Please change the shape of y to (n_samples,), for example using ravel().\n",
      "  return fit_method(estimator, *args, **kwargs)\n"
     ]
    },
    {
     "name": "stdout",
     "output_type": "stream",
     "text": [
      "Random State가  5  일 때  Baseline model:  0.7116930777296377\n",
      "Random State가  5  일 때  Advance model:  0.7407542659772675\n"
     ]
    },
    {
     "name": "stderr",
     "output_type": "stream",
     "text": [
      "/home/iai/anaconda3/envs/son/lib/python3.9/site-packages/sklearn/base.py:1151: DataConversionWarning: A column-vector y was passed when a 1d array was expected. Please change the shape of y to (n_samples,), for example using ravel().\n",
      "  return fit_method(estimator, *args, **kwargs)\n",
      "/home/iai/anaconda3/envs/son/lib/python3.9/site-packages/sklearn/base.py:1151: DataConversionWarning: A column-vector y was passed when a 1d array was expected. Please change the shape of y to (n_samples,), for example using ravel().\n",
      "  return fit_method(estimator, *args, **kwargs)\n"
     ]
    },
    {
     "name": "stdout",
     "output_type": "stream",
     "text": [
      "Random State가  6  일 때  Baseline model:  0.7050245939672088\n",
      "Random State가  6  일 때  Advance model:  0.7440244481673017\n"
     ]
    },
    {
     "name": "stderr",
     "output_type": "stream",
     "text": [
      "/home/iai/anaconda3/envs/son/lib/python3.9/site-packages/sklearn/base.py:1151: DataConversionWarning: A column-vector y was passed when a 1d array was expected. Please change the shape of y to (n_samples,), for example using ravel().\n",
      "  return fit_method(estimator, *args, **kwargs)\n",
      "/home/iai/anaconda3/envs/son/lib/python3.9/site-packages/sklearn/base.py:1151: DataConversionWarning: A column-vector y was passed when a 1d array was expected. Please change the shape of y to (n_samples,), for example using ravel().\n",
      "  return fit_method(estimator, *args, **kwargs)\n"
     ]
    },
    {
     "name": "stdout",
     "output_type": "stream",
     "text": [
      "Random State가  7  일 때  Baseline model:  0.7076942950009251\n",
      "Random State가  7  일 때  Advance model:  0.7332305086554771\n"
     ]
    },
    {
     "name": "stderr",
     "output_type": "stream",
     "text": [
      "/home/iai/anaconda3/envs/son/lib/python3.9/site-packages/sklearn/base.py:1151: DataConversionWarning: A column-vector y was passed when a 1d array was expected. Please change the shape of y to (n_samples,), for example using ravel().\n",
      "  return fit_method(estimator, *args, **kwargs)\n",
      "/home/iai/anaconda3/envs/son/lib/python3.9/site-packages/sklearn/base.py:1151: DataConversionWarning: A column-vector y was passed when a 1d array was expected. Please change the shape of y to (n_samples,), for example using ravel().\n",
      "  return fit_method(estimator, *args, **kwargs)\n"
     ]
    },
    {
     "name": "stdout",
     "output_type": "stream",
     "text": [
      "Random State가  8  일 때  Baseline model:  0.6922342763445222\n",
      "Random State가  8  일 때  Advance model:  0.7230145651945864\n"
     ]
    },
    {
     "name": "stderr",
     "output_type": "stream",
     "text": [
      "/home/iai/anaconda3/envs/son/lib/python3.9/site-packages/sklearn/base.py:1151: DataConversionWarning: A column-vector y was passed when a 1d array was expected. Please change the shape of y to (n_samples,), for example using ravel().\n",
      "  return fit_method(estimator, *args, **kwargs)\n",
      "/home/iai/anaconda3/envs/son/lib/python3.9/site-packages/sklearn/base.py:1151: DataConversionWarning: A column-vector y was passed when a 1d array was expected. Please change the shape of y to (n_samples,), for example using ravel().\n",
      "  return fit_method(estimator, *args, **kwargs)\n"
     ]
    },
    {
     "name": "stdout",
     "output_type": "stream",
     "text": [
      "Random State가  9  일 때  Baseline model:  0.6809318077043862\n",
      "Random State가  9  일 때  Advance model:  0.7380821044662151\n"
     ]
    },
    {
     "name": "stderr",
     "output_type": "stream",
     "text": [
      "/home/iai/anaconda3/envs/son/lib/python3.9/site-packages/sklearn/base.py:1151: DataConversionWarning: A column-vector y was passed when a 1d array was expected. Please change the shape of y to (n_samples,), for example using ravel().\n",
      "  return fit_method(estimator, *args, **kwargs)\n",
      "/home/iai/anaconda3/envs/son/lib/python3.9/site-packages/sklearn/base.py:1151: DataConversionWarning: A column-vector y was passed when a 1d array was expected. Please change the shape of y to (n_samples,), for example using ravel().\n",
      "  return fit_method(estimator, *args, **kwargs)\n"
     ]
    },
    {
     "name": "stdout",
     "output_type": "stream",
     "text": [
      "Random State가  10  일 때  Baseline model:  0.7171947383024668\n",
      "Random State가  10  일 때  Advance model:  0.7416550417424967\n"
     ]
    },
    {
     "name": "stderr",
     "output_type": "stream",
     "text": [
      "/home/iai/anaconda3/envs/son/lib/python3.9/site-packages/sklearn/base.py:1151: DataConversionWarning: A column-vector y was passed when a 1d array was expected. Please change the shape of y to (n_samples,), for example using ravel().\n",
      "  return fit_method(estimator, *args, **kwargs)\n",
      "/home/iai/anaconda3/envs/son/lib/python3.9/site-packages/sklearn/base.py:1151: DataConversionWarning: A column-vector y was passed when a 1d array was expected. Please change the shape of y to (n_samples,), for example using ravel().\n",
      "  return fit_method(estimator, *args, **kwargs)\n"
     ]
    },
    {
     "name": "stdout",
     "output_type": "stream",
     "text": [
      "Random State가  11  일 때  Baseline model:  0.6898079713813237\n",
      "Random State가  11  일 때  Advance model:  0.7423893612284964\n"
     ]
    },
    {
     "name": "stderr",
     "output_type": "stream",
     "text": [
      "/home/iai/anaconda3/envs/son/lib/python3.9/site-packages/sklearn/base.py:1151: DataConversionWarning: A column-vector y was passed when a 1d array was expected. Please change the shape of y to (n_samples,), for example using ravel().\n",
      "  return fit_method(estimator, *args, **kwargs)\n",
      "/home/iai/anaconda3/envs/son/lib/python3.9/site-packages/sklearn/base.py:1151: DataConversionWarning: A column-vector y was passed when a 1d array was expected. Please change the shape of y to (n_samples,), for example using ravel().\n",
      "  return fit_method(estimator, *args, **kwargs)\n"
     ]
    },
    {
     "name": "stdout",
     "output_type": "stream",
     "text": [
      "Random State가  12  일 때  Baseline model:  0.6838384959301543\n",
      "Random State가  12  일 때  Advance model:  0.7199056357067131\n"
     ]
    },
    {
     "name": "stderr",
     "output_type": "stream",
     "text": [
      "/home/iai/anaconda3/envs/son/lib/python3.9/site-packages/sklearn/base.py:1151: DataConversionWarning: A column-vector y was passed when a 1d array was expected. Please change the shape of y to (n_samples,), for example using ravel().\n",
      "  return fit_method(estimator, *args, **kwargs)\n",
      "/home/iai/anaconda3/envs/son/lib/python3.9/site-packages/sklearn/base.py:1151: DataConversionWarning: A column-vector y was passed when a 1d array was expected. Please change the shape of y to (n_samples,), for example using ravel().\n",
      "  return fit_method(estimator, *args, **kwargs)\n"
     ]
    },
    {
     "name": "stdout",
     "output_type": "stream",
     "text": [
      "Random State가  13  일 때  Baseline model:  0.6825109769707634\n",
      "Random State가  13  일 때  Advance model:  0.7416705444121978\n"
     ]
    },
    {
     "name": "stderr",
     "output_type": "stream",
     "text": [
      "/home/iai/anaconda3/envs/son/lib/python3.9/site-packages/sklearn/base.py:1151: DataConversionWarning: A column-vector y was passed when a 1d array was expected. Please change the shape of y to (n_samples,), for example using ravel().\n",
      "  return fit_method(estimator, *args, **kwargs)\n",
      "/home/iai/anaconda3/envs/son/lib/python3.9/site-packages/sklearn/base.py:1151: DataConversionWarning: A column-vector y was passed when a 1d array was expected. Please change the shape of y to (n_samples,), for example using ravel().\n",
      "  return fit_method(estimator, *args, **kwargs)\n"
     ]
    },
    {
     "name": "stdout",
     "output_type": "stream",
     "text": [
      "Random State가  14  일 때  Baseline model:  0.6869558292781176\n",
      "Random State가  14  일 때  Advance model:  0.7214215806804649\n"
     ]
    },
    {
     "name": "stderr",
     "output_type": "stream",
     "text": [
      "/home/iai/anaconda3/envs/son/lib/python3.9/site-packages/sklearn/base.py:1151: DataConversionWarning: A column-vector y was passed when a 1d array was expected. Please change the shape of y to (n_samples,), for example using ravel().\n",
      "  return fit_method(estimator, *args, **kwargs)\n",
      "/home/iai/anaconda3/envs/son/lib/python3.9/site-packages/sklearn/base.py:1151: DataConversionWarning: A column-vector y was passed when a 1d array was expected. Please change the shape of y to (n_samples,), for example using ravel().\n",
      "  return fit_method(estimator, *args, **kwargs)\n"
     ]
    },
    {
     "name": "stdout",
     "output_type": "stream",
     "text": [
      "Random State가  15  일 때  Baseline model:  0.6746329690995633\n",
      "Random State가  15  일 때  Advance model:  0.7200571046864944\n"
     ]
    },
    {
     "name": "stderr",
     "output_type": "stream",
     "text": [
      "/home/iai/anaconda3/envs/son/lib/python3.9/site-packages/sklearn/base.py:1151: DataConversionWarning: A column-vector y was passed when a 1d array was expected. Please change the shape of y to (n_samples,), for example using ravel().\n",
      "  return fit_method(estimator, *args, **kwargs)\n",
      "/home/iai/anaconda3/envs/son/lib/python3.9/site-packages/sklearn/base.py:1151: DataConversionWarning: A column-vector y was passed when a 1d array was expected. Please change the shape of y to (n_samples,), for example using ravel().\n",
      "  return fit_method(estimator, *args, **kwargs)\n"
     ]
    },
    {
     "name": "stdout",
     "output_type": "stream",
     "text": [
      "Random State가  16  일 때  Baseline model:  0.7062029714253795\n",
      "Random State가  16  일 때  Advance model:  0.7301226514702266\n"
     ]
    },
    {
     "name": "stderr",
     "output_type": "stream",
     "text": [
      "/home/iai/anaconda3/envs/son/lib/python3.9/site-packages/sklearn/base.py:1151: DataConversionWarning: A column-vector y was passed when a 1d array was expected. Please change the shape of y to (n_samples,), for example using ravel().\n",
      "  return fit_method(estimator, *args, **kwargs)\n",
      "/home/iai/anaconda3/envs/son/lib/python3.9/site-packages/sklearn/base.py:1151: DataConversionWarning: A column-vector y was passed when a 1d array was expected. Please change the shape of y to (n_samples,), for example using ravel().\n",
      "  return fit_method(estimator, *args, **kwargs)\n"
     ]
    },
    {
     "name": "stdout",
     "output_type": "stream",
     "text": [
      "Random State가  17  일 때  Baseline model:  0.6933363873177023\n",
      "Random State가  17  일 때  Advance model:  0.7137962621691801\n"
     ]
    },
    {
     "name": "stderr",
     "output_type": "stream",
     "text": [
      "/home/iai/anaconda3/envs/son/lib/python3.9/site-packages/sklearn/base.py:1151: DataConversionWarning: A column-vector y was passed when a 1d array was expected. Please change the shape of y to (n_samples,), for example using ravel().\n",
      "  return fit_method(estimator, *args, **kwargs)\n",
      "/home/iai/anaconda3/envs/son/lib/python3.9/site-packages/sklearn/base.py:1151: DataConversionWarning: A column-vector y was passed when a 1d array was expected. Please change the shape of y to (n_samples,), for example using ravel().\n",
      "  return fit_method(estimator, *args, **kwargs)\n"
     ]
    },
    {
     "name": "stdout",
     "output_type": "stream",
     "text": [
      "Random State가  18  일 때  Baseline model:  0.6977757451131679\n",
      "Random State가  18  일 때  Advance model:  0.7247652779433335\n"
     ]
    },
    {
     "name": "stderr",
     "output_type": "stream",
     "text": [
      "/home/iai/anaconda3/envs/son/lib/python3.9/site-packages/sklearn/base.py:1151: DataConversionWarning: A column-vector y was passed when a 1d array was expected. Please change the shape of y to (n_samples,), for example using ravel().\n",
      "  return fit_method(estimator, *args, **kwargs)\n",
      "/home/iai/anaconda3/envs/son/lib/python3.9/site-packages/sklearn/base.py:1151: DataConversionWarning: A column-vector y was passed when a 1d array was expected. Please change the shape of y to (n_samples,), for example using ravel().\n",
      "  return fit_method(estimator, *args, **kwargs)\n"
     ]
    },
    {
     "name": "stdout",
     "output_type": "stream",
     "text": [
      "Random State가  19  일 때  Baseline model:  0.7037632917728787\n",
      "Random State가  19  일 때  Advance model:  0.733881321535677\n"
     ]
    },
    {
     "name": "stderr",
     "output_type": "stream",
     "text": [
      "/home/iai/anaconda3/envs/son/lib/python3.9/site-packages/sklearn/base.py:1151: DataConversionWarning: A column-vector y was passed when a 1d array was expected. Please change the shape of y to (n_samples,), for example using ravel().\n",
      "  return fit_method(estimator, *args, **kwargs)\n",
      "/home/iai/anaconda3/envs/son/lib/python3.9/site-packages/sklearn/base.py:1151: DataConversionWarning: A column-vector y was passed when a 1d array was expected. Please change the shape of y to (n_samples,), for example using ravel().\n",
      "  return fit_method(estimator, *args, **kwargs)\n"
     ]
    },
    {
     "name": "stdout",
     "output_type": "stream",
     "text": [
      "Random State가  20  일 때  Baseline model:  0.6953198063604337\n",
      "Random State가  20  일 때  Advance model:  0.7448046023561066\n"
     ]
    },
    {
     "name": "stderr",
     "output_type": "stream",
     "text": [
      "/home/iai/anaconda3/envs/son/lib/python3.9/site-packages/sklearn/base.py:1151: DataConversionWarning: A column-vector y was passed when a 1d array was expected. Please change the shape of y to (n_samples,), for example using ravel().\n",
      "  return fit_method(estimator, *args, **kwargs)\n",
      "/home/iai/anaconda3/envs/son/lib/python3.9/site-packages/sklearn/base.py:1151: DataConversionWarning: A column-vector y was passed when a 1d array was expected. Please change the shape of y to (n_samples,), for example using ravel().\n",
      "  return fit_method(estimator, *args, **kwargs)\n"
     ]
    },
    {
     "name": "stdout",
     "output_type": "stream",
     "text": [
      "Random State가  21  일 때  Baseline model:  0.7291454014094213\n",
      "Random State가  21  일 때  Advance model:  0.7511290349126771\n"
     ]
    },
    {
     "name": "stderr",
     "output_type": "stream",
     "text": [
      "/home/iai/anaconda3/envs/son/lib/python3.9/site-packages/sklearn/base.py:1151: DataConversionWarning: A column-vector y was passed when a 1d array was expected. Please change the shape of y to (n_samples,), for example using ravel().\n",
      "  return fit_method(estimator, *args, **kwargs)\n",
      "/home/iai/anaconda3/envs/son/lib/python3.9/site-packages/sklearn/base.py:1151: DataConversionWarning: A column-vector y was passed when a 1d array was expected. Please change the shape of y to (n_samples,), for example using ravel().\n",
      "  return fit_method(estimator, *args, **kwargs)\n"
     ]
    },
    {
     "name": "stdout",
     "output_type": "stream",
     "text": [
      "Random State가  22  일 때  Baseline model:  0.7068046163209779\n",
      "Random State가  22  일 때  Advance model:  0.7395867694813697\n"
     ]
    },
    {
     "name": "stderr",
     "output_type": "stream",
     "text": [
      "/home/iai/anaconda3/envs/son/lib/python3.9/site-packages/sklearn/base.py:1151: DataConversionWarning: A column-vector y was passed when a 1d array was expected. Please change the shape of y to (n_samples,), for example using ravel().\n",
      "  return fit_method(estimator, *args, **kwargs)\n",
      "/home/iai/anaconda3/envs/son/lib/python3.9/site-packages/sklearn/base.py:1151: DataConversionWarning: A column-vector y was passed when a 1d array was expected. Please change the shape of y to (n_samples,), for example using ravel().\n",
      "  return fit_method(estimator, *args, **kwargs)\n"
     ]
    },
    {
     "name": "stdout",
     "output_type": "stream",
     "text": [
      "Random State가  23  일 때  Baseline model:  0.7001251102850778\n",
      "Random State가  23  일 때  Advance model:  0.7417008515080314\n"
     ]
    },
    {
     "name": "stderr",
     "output_type": "stream",
     "text": [
      "/home/iai/anaconda3/envs/son/lib/python3.9/site-packages/sklearn/base.py:1151: DataConversionWarning: A column-vector y was passed when a 1d array was expected. Please change the shape of y to (n_samples,), for example using ravel().\n",
      "  return fit_method(estimator, *args, **kwargs)\n",
      "/home/iai/anaconda3/envs/son/lib/python3.9/site-packages/sklearn/base.py:1151: DataConversionWarning: A column-vector y was passed when a 1d array was expected. Please change the shape of y to (n_samples,), for example using ravel().\n",
      "  return fit_method(estimator, *args, **kwargs)\n"
     ]
    },
    {
     "name": "stdout",
     "output_type": "stream",
     "text": [
      "Random State가  24  일 때  Baseline model:  0.7055928312330333\n",
      "Random State가  24  일 때  Advance model:  0.7365054289268678\n"
     ]
    },
    {
     "name": "stderr",
     "output_type": "stream",
     "text": [
      "/home/iai/anaconda3/envs/son/lib/python3.9/site-packages/sklearn/base.py:1151: DataConversionWarning: A column-vector y was passed when a 1d array was expected. Please change the shape of y to (n_samples,), for example using ravel().\n",
      "  return fit_method(estimator, *args, **kwargs)\n",
      "/home/iai/anaconda3/envs/son/lib/python3.9/site-packages/sklearn/base.py:1151: DataConversionWarning: A column-vector y was passed when a 1d array was expected. Please change the shape of y to (n_samples,), for example using ravel().\n",
      "  return fit_method(estimator, *args, **kwargs)\n"
     ]
    },
    {
     "name": "stdout",
     "output_type": "stream",
     "text": [
      "Random State가  25  일 때  Baseline model:  0.6814426476864115\n",
      "Random State가  25  일 때  Advance model:  0.7133954454237034\n"
     ]
    },
    {
     "name": "stderr",
     "output_type": "stream",
     "text": [
      "/home/iai/anaconda3/envs/son/lib/python3.9/site-packages/sklearn/base.py:1151: DataConversionWarning: A column-vector y was passed when a 1d array was expected. Please change the shape of y to (n_samples,), for example using ravel().\n",
      "  return fit_method(estimator, *args, **kwargs)\n",
      "/home/iai/anaconda3/envs/son/lib/python3.9/site-packages/sklearn/base.py:1151: DataConversionWarning: A column-vector y was passed when a 1d array was expected. Please change the shape of y to (n_samples,), for example using ravel().\n",
      "  return fit_method(estimator, *args, **kwargs)\n"
     ]
    },
    {
     "name": "stdout",
     "output_type": "stream",
     "text": [
      "Random State가  26  일 때  Baseline model:  0.7008178260917994\n",
      "Random State가  26  일 때  Advance model:  0.7358575586445628\n"
     ]
    },
    {
     "name": "stderr",
     "output_type": "stream",
     "text": [
      "/home/iai/anaconda3/envs/son/lib/python3.9/site-packages/sklearn/base.py:1151: DataConversionWarning: A column-vector y was passed when a 1d array was expected. Please change the shape of y to (n_samples,), for example using ravel().\n",
      "  return fit_method(estimator, *args, **kwargs)\n",
      "/home/iai/anaconda3/envs/son/lib/python3.9/site-packages/sklearn/base.py:1151: DataConversionWarning: A column-vector y was passed when a 1d array was expected. Please change the shape of y to (n_samples,), for example using ravel().\n",
      "  return fit_method(estimator, *args, **kwargs)\n"
     ]
    },
    {
     "name": "stdout",
     "output_type": "stream",
     "text": [
      "Random State가  27  일 때  Baseline model:  0.6734095299939667\n",
      "Random State가  27  일 때  Advance model:  0.7128960350238973\n"
     ]
    },
    {
     "name": "stderr",
     "output_type": "stream",
     "text": [
      "/home/iai/anaconda3/envs/son/lib/python3.9/site-packages/sklearn/base.py:1151: DataConversionWarning: A column-vector y was passed when a 1d array was expected. Please change the shape of y to (n_samples,), for example using ravel().\n",
      "  return fit_method(estimator, *args, **kwargs)\n",
      "/home/iai/anaconda3/envs/son/lib/python3.9/site-packages/sklearn/base.py:1151: DataConversionWarning: A column-vector y was passed when a 1d array was expected. Please change the shape of y to (n_samples,), for example using ravel().\n",
      "  return fit_method(estimator, *args, **kwargs)\n"
     ]
    },
    {
     "name": "stdout",
     "output_type": "stream",
     "text": [
      "Random State가  28  일 때  Baseline model:  0.6970351331226299\n",
      "Random State가  28  일 때  Advance model:  0.7328615617414393\n"
     ]
    },
    {
     "name": "stderr",
     "output_type": "stream",
     "text": [
      "/home/iai/anaconda3/envs/son/lib/python3.9/site-packages/sklearn/base.py:1151: DataConversionWarning: A column-vector y was passed when a 1d array was expected. Please change the shape of y to (n_samples,), for example using ravel().\n",
      "  return fit_method(estimator, *args, **kwargs)\n",
      "/home/iai/anaconda3/envs/son/lib/python3.9/site-packages/sklearn/base.py:1151: DataConversionWarning: A column-vector y was passed when a 1d array was expected. Please change the shape of y to (n_samples,), for example using ravel().\n",
      "  return fit_method(estimator, *args, **kwargs)\n"
     ]
    },
    {
     "name": "stdout",
     "output_type": "stream",
     "text": [
      "Random State가  29  일 때  Baseline model:  0.6868728712922643\n",
      "Random State가  29  일 때  Advance model:  0.7434952959164555\n"
     ]
    },
    {
     "name": "stderr",
     "output_type": "stream",
     "text": [
      "/home/iai/anaconda3/envs/son/lib/python3.9/site-packages/sklearn/base.py:1151: DataConversionWarning: A column-vector y was passed when a 1d array was expected. Please change the shape of y to (n_samples,), for example using ravel().\n",
      "  return fit_method(estimator, *args, **kwargs)\n",
      "/home/iai/anaconda3/envs/son/lib/python3.9/site-packages/sklearn/base.py:1151: DataConversionWarning: A column-vector y was passed when a 1d array was expected. Please change the shape of y to (n_samples,), for example using ravel().\n",
      "  return fit_method(estimator, *args, **kwargs)\n"
     ]
    },
    {
     "name": "stdout",
     "output_type": "stream",
     "text": [
      "Random State가  30  일 때  Baseline model:  0.6879553649461446\n",
      "Random State가  30  일 때  Advance model:  0.7453789243158834\n"
     ]
    },
    {
     "data": {
      "image/png": "[encoded data removed]",
      "text/plain": [
       "<Figure size 1000x500 with 1 Axes>"
      ]
     },
     "metadata": {},
     "output_type": "display_data"
    }
   ],
   "source": [
    "import pandas as pd\n",
    "import numpy as np\n",
    "import matplotlib.pyplot as plt\n",
    "from sklearn.model_selection import train_test_split\n",
    "from joblib import dump\n",
    "from joblib import load\n",
    "\n",
    "# 설치된 모듈 경로로 이동하기\n",
    "%cd /home/iai/son/heo_jun/RF_new/recipe1/rf_module\n",
    "\n",
    "# 모듈 함수 불러오기\n",
    "from split_and_predict import split_and_predict\n",
    "from train_teacher import train_teacher\n",
    "from train_student import train_student\n",
    "from test_predict import test_predict\n",
    "\n",
    "\n",
    "random_states = range(1, 31)\n",
    "\n",
    "# Define the split ratios\n",
    "split_ratios = [0, 0.1, 0.2, 0.3, 0.4, 0.5, 0.6, 0.7, 0.8, 0.9, 1]\n",
    "\n",
    "# Create an array to store the AUC scores for each random_state and split_ratio\n",
    "auc_scores = np.zeros((len(random_states), len(split_ratios)))\n",
    "\n",
    "data=pd.read_csv('/home/iai/son/activeinspection/data/activeinspection_recipe2.csv')\n",
    "X=data.iloc[:,3:-1].values\n",
    "Y=data.iloc[:,-1].values\n",
    "data_X = pd.DataFrame(X)\n",
    "data_y= pd.DataFrame(Y)\n",
    "data_y = data_y.rename(columns={0: '0.1'})\n",
    "\n",
    "auc_score30_split_Baseline=[]\n",
    "auc_score30_split_ad_BL=[]\n",
    "\n",
    "# Loop through the random_states\n",
    "for i, random_state in enumerate(random_states):\n",
    "    # Build the models\n",
    "    train_X,test_X,train_y,test_y=train_test_split(data_X,data_y,test_size=0.5,shuffle=True,stratify=data_y,random_state=random_state)\n",
    "    test_stage_features=[0,1,2,3,4,5,6,7]\n",
    "    random_forest_basic = train_student(train_y)\n",
    "    random_forest_ad = train_teacher(train_y)\n",
    "\n",
    "    # Fit the models\n",
    "    random_forest_ad.fit(train_X, train_y)\n",
    "    # Train a regressor model\n",
    "    train_X_new = train_X[test_stage_features]\n",
    "    random_forest_basic.fit(train_X_new, train_y)\n",
    "    \n",
    "    test_data=pd.concat([test_X,test_y],axis=1)\n",
    "    test_X_new=test_X[test_stage_features]\n",
    "\n",
    "\n",
    "    y_predictions = test_predict(random_forest_basic,test_X_new)\n",
    "\n",
    "    # advance model 저장하기\n",
    "    dump(random_forest_ad, '/home/iai/son/heo_jun/RF_new/recipe2/randomforest/advance_model_recipe2/advancemodel_randomstate{}'.format(i))\n",
    "    # advance model 로드하기\n",
    "    random_forest_ad=load('/home/iai/son/heo_jun/RF_new/recipe2/randomforest/advance_model_recipe2/advancemodel_randomstate{}'.format(i))  \n",
    "    # basic model 저장하기\n",
    "    dump(random_forest_basic, '/home/iai/son/heo_jun/RF_new/recipe2/randomforest/basic_model_recipe2/basicmodel_randomstate{}'.format(i))\n",
    "    # basic model 로드하기\n",
    "    random_forest_basic=load('/home/iai/son/heo_jun/RF_new/recipe2/randomforest/basic_model_recipe2/basicmodel_randomstate{}'.format(i))  \n",
    "    \n",
    "    \n",
    "# Adding the predictions to the test_X DataFrame\n",
    "    test_data['predictions'] = y_predictions\n",
    "    test_y=test_data['0.1']\n",
    "\n",
    "\n",
    "    # Loop through the split_ratios\n",
    "    for j, split_ratio in enumerate(split_ratios):\n",
    "        auc_score = split_and_predict(test_data, random_forest_ad, test_y, split_ratio,random_state)\n",
    "        auc_scores[i, j] = auc_score\n",
    "        if split_ratio==0:\n",
    "            auc_score30_split_Baseline.append(auc_score)\n",
    "            print(\"Random State가 \",i+1,\" 일 때 \", \"Baseline model: \",auc_score)\n",
    "        # 분할 비율이 1일 때의 결과 출력 (Advance 모델)\n",
    "        if split_ratio==1:\n",
    "            auc_score30_split_ad_BL.append(auc_score)\n",
    "            print(\"Random State가 \", i+1,\" 일 때 \",\"Advance model: \",auc_score)\n",
    "\n",
    "# Calculate the average AUC scores\n",
    "average_auc_scores_baseline_randomselection = auc_scores.mean(axis=0)\n",
    "\n",
    "# Plot the average AUC scores\n",
    "plt.figure(figsize=(10, 5))\n",
    "plt.plot(split_ratios, average_auc_scores_baseline_randomselection, marker='o')\n",
    "plt.title('Average AUC Scores for Different Split Ratios')\n",
    "plt.xlabel('Advanced Inspection Rate (Cost)')\n",
    "plt.ylabel('Average AUC Score')\n",
    "plt.xticks([0, 0.2, 0.4, 0.6, 0.8, 1])\n",
    "plt.ylim(min(average_auc_scores_baseline_randomselection), max(average_auc_scores_baseline_randomselection))\n",
    "plt.grid()\n",
    "plt.show()\n"
   ]
  },
  {
   "cell_type": "code",
   "execution_count": 4,
   "metadata": {},
   "outputs": [
    {
     "name": "stdout",
     "output_type": "stream",
     "text": [
      "Baseline Model - Average AUC over 30 runs:  0.6955003954219825\n",
      "Baseline Model - Standard Deviation of AUC over 30 runs:  0.012652801973004281\n",
      "\n",
      "Advance Model - Average AUC over 30 runs:  0.7324430772170384\n",
      "Advance Model - Standard Deviation of AUC over 30 runs:  0.011727837781914071\n"
     ]
    }
   ],
   "source": [
    "import numpy as np\n",
    "# Convert the lists to numpy arrays\n",
    "auc_score30_split_Baseline_array = np.array(auc_score30_split_Baseline)\n",
    "auc_score30_split_ad_BL_array = np.array(auc_score30_split_ad_BL)\n",
    "\n",
    "# Calculate average and standard deviation for baseline model\n",
    "baseline_avg = auc_score30_split_Baseline_array.mean()\n",
    "baseline_std = auc_score30_split_Baseline_array.std()\n",
    "\n",
    "# Calculate average and standard deviation for advance model\n",
    "advance_avg = auc_score30_split_ad_BL_array.mean()\n",
    "advance_std = auc_score30_split_ad_BL_array.std()\n",
    "\n",
    "# Print the results\n",
    "print(\"Baseline Model - Average AUC over 30 runs: \", baseline_avg)\n",
    "print(\"Baseline Model - Standard Deviation of AUC over 30 runs: \", baseline_std)\n",
    "\n",
    "print(\"\\nAdvance Model - Average AUC over 30 runs: \", advance_avg)\n",
    "print(\"Advance Model - Standard Deviation of AUC over 30 runs: \", advance_std)"
   ]
  },
  {
   "cell_type": "code",
   "execution_count": 5,
   "metadata": {},
   "outputs": [
    {
     "data": {
      "text/plain": [
       "array([0.6955004 , 0.69809261, 0.70231011, 0.70464798, 0.70983728,\n",
       "       0.71342839, 0.71733467, 0.72126901, 0.72492867, 0.72882625,\n",
       "       0.73244308])"
      ]
     },
     "execution_count": 5,
     "metadata": {},
     "output_type": "execute_result"
    }
   ],
   "source": [
    "average_auc_scores_baseline_randomselection"
   ]
  },
  {
   "cell_type": "markdown",
   "metadata": {},
   "source": [
    "## VM- random selection"
   ]
  },
  {
   "cell_type": "code",
   "execution_count": 1,
   "metadata": {},
   "outputs": [
    {
     "name": "stdout",
     "output_type": "stream",
     "text": [
      "/home/iai/son/heo_jun/RF_new/recipe1/rf_module\n",
      "Random State가  1  일 때  Baseline model:  0.6980909783210697\n",
      "Random State가  1  일 때  Advance model:  0.731744253896669\n",
      "Random State가  2  일 때  Baseline model:  0.6968918130390062\n",
      "Random State가  2  일 때  Advance model:  0.7112076212516814\n",
      "Random State가  3  일 때  Baseline model:  0.7272047333649813\n",
      "Random State가  3  일 때  Advance model:  0.7537359561674183\n",
      "Random State가  4  일 때  Baseline model:  0.6718366761610888\n",
      "Random State가  4  일 때  Advance model:  0.6938469222248596\n",
      "Random State가  5  일 때  Baseline model:  0.6784840078328982\n",
      "Random State가  5  일 때  Advance model:  0.7368388519661366\n",
      "Random State가  6  일 때  Baseline model:  0.7197600185932431\n",
      "Random State가  6  일 때  Advance model:  0.7744382466967323\n",
      "Random State가  7  일 때  Baseline model:  0.7302446791676557\n",
      "Random State가  7  일 때  Advance model:  0.7496526129440619\n",
      "Random State가  8  일 때  Baseline model:  0.736542151277791\n",
      "Random State가  8  일 때  Advance model:  0.7355049351214495\n",
      "Random State가  9  일 때  Baseline model:  0.7740673708363005\n",
      "Random State가  9  일 때  Advance model:  0.8026643721813435\n",
      "Random State가  10  일 때  Baseline model:  0.7120025318458739\n",
      "Random State가  10  일 때  Advance model:  0.7548844350818893\n",
      "Random State가  11  일 때  Baseline model:  0.7281294505103253\n",
      "Random State가  11  일 때  Advance model:  0.7223685121449482\n",
      "Random State가  12  일 때  Baseline model:  0.6915301843500279\n",
      "Random State가  12  일 때  Advance model:  0.7260426556689611\n",
      "Random State가  13  일 때  Baseline model:  0.6931249505498853\n",
      "Random State가  13  일 때  Advance model:  0.6812000553841285\n",
      "Random State가  14  일 때  Baseline model:  0.7428371508821902\n",
      "Random State가  14  일 때  Advance model:  0.7388119115436348\n",
      "Random State가  15  일 때  Baseline model:  0.7276436031331592\n",
      "Random State가  15  일 때  Advance model:  0.7191418921591898\n",
      "Random State가  16  일 때  Baseline model:  0.7430361875939552\n",
      "Random State가  16  일 때  Advance model:  0.7713031094232139\n",
      "Random State가  17  일 때  Baseline model:  0.733784071129045\n",
      "Random State가  17  일 때  Advance model:  0.7981335054197325\n",
      "Random State가  18  일 때  Baseline model:  0.7805440996123111\n",
      "Random State가  18  일 때  Advance model:  0.7748091225571643\n",
      "Random State가  19  일 때  Baseline model:  0.7456891862489119\n",
      "Random State가  19  일 때  Advance model:  0.8013811417042488\n",
      "Random State가  20  일 때  Baseline model:  0.7042697701558666\n",
      "Random State가  20  일 때  Advance model:  0.7570194437851097\n",
      "Random State가  21  일 때  Baseline model:  0.7230682312682966\n",
      "Random State가  21  일 때  Advance model:  0.7576907290924915\n",
      "Random State가  22  일 때  Baseline model:  0.7444640596566187\n",
      "Random State가  22  일 때  Advance model:  0.7545605368304455\n",
      "Random State가  23  일 때  Baseline model:  0.7339114051744601\n",
      "Random State가  23  일 때  Advance model:  0.7797986391328428\n",
      "Random State가  24  일 때  Baseline model:  0.7787762580109184\n",
      "Random State가  24  일 때  Advance model:  0.7430275338238784\n",
      "Random State가  25  일 때  Baseline model:  0.7262454011393306\n",
      "Random State가  25  일 때  Advance model:  0.7399529729408971\n",
      "Random State가  26  일 때  Baseline model:  0.6836231110056175\n",
      "Random State가  26  일 때  Advance model:  0.7656855763905371\n",
      "Random State가  27  일 때  Baseline model:  0.7132029333808054\n",
      "Random State가  27  일 때  Advance model:  0.7635110075955377\n",
      "Random State가  28  일 때  Baseline model:  0.7351006804335787\n",
      "Random State가  28  일 때  Advance model:  0.7349634563652188\n",
      "Random State가  29  일 때  Baseline model:  0.6848049687475275\n",
      "Random State가  29  일 때  Advance model:  0.7362244342906876\n",
      "Random State가  30  일 때  Baseline model:  0.7339843440936784\n",
      "Random State가  30  일 때  Advance model:  0.7213893998734076\n"
     ]
    },
    {
     "data": {
      "image/png": "[encoded data removed]",
      "text/plain": [
       "<Figure size 1000x500 with 1 Axes>"
      ]
     },
     "metadata": {},
     "output_type": "display_data"
    }
   ],
   "source": [
    "import pandas as pd\n",
    "import numpy as np\n",
    "import matplotlib.pyplot as plt\n",
    "from sklearn.model_selection import train_test_split\n",
    "from joblib import load\n",
    "\n",
    "# 설치된 모듈 경로로 이동하기\n",
    "%cd /home/iai/son/heo_jun/RF_new/recipe1/rf_module\n",
    "\n",
    "# 모듈 함수 불러오기\n",
    "from split_and_predict import split_and_predict\n",
    "from test_predict_vm import test_predict_vm\n",
    "\n",
    "\n",
    "random_states = range(1, 31)\n",
    "split_ratios = [0, 0.1, 0.2, 0.3, 0.4, 0.5, 0.6, 0.7, 0.8, 0.9, 1]\n",
    "auc_scores = np.zeros((len(random_states), len(split_ratios)))\n",
    "\n",
    "data=pd.read_csv('/home/iai/son/activeinspection/data/activeinspection_recipe2.csv')\n",
    "X=data.iloc[:,3:-1].values\n",
    "Y=data.iloc[:,-1].values\n",
    "data_X = pd.DataFrame(X)\n",
    "data_y= pd.DataFrame(Y)\n",
    "data_y = data_y.rename(columns={0: '0.1'})\n",
    "\n",
    "test_stage_features=['0','1','2','3','4','5','6','7']\n",
    "\n",
    "auc_score30_split_Baseline=[]\n",
    "auc_score30_split_ad_BL=[]\n",
    "\n",
    "# Loop through the random_states\n",
    "for i, random_state in enumerate(random_states):\n",
    "    # Build the models\n",
    "    train_X,test_X,train_y,test_y=train_test_split(data_X,data_y,test_size=0.5,shuffle=True,stratify=data_y,random_state=random_state)\n",
    "\n",
    "    test_data=pd.concat([test_X,test_y],axis=1)\n",
    "    random_forest_ad=load('/home/iai/son/heo_jun/RF_new/recipe2/randomforest/advance_model_recipe2/advancemodel_randomstate{}'.format(i))\n",
    "\n",
    "    # 가상계측 변수\n",
    "    test_X_new=pd.read_csv('/home/iai/son/heo_jun/RF_new/recipe2/randomforest/vm_dataset/virtual_dataset_randomstate{}.csv'.format(i))\n",
    "    \n",
    "    y_predictions = test_predict_vm(random_forest_ad,test_X_new)\n",
    "# Margin을 계산하여 uncertainty score로 사용\n",
    "# Margin은 예측 확률 사이의 차이로 계산 (예: abs(probability of class 1 - probability of class 0))\n",
    "    \n",
    "    test_data['predictions'] = y_predictions\n",
    "    test_y=test_data['0.1']\n",
    "\n",
    "\n",
    "    # Loop through the split_ratios\n",
    "    for j, split_ratio in enumerate(split_ratios):\n",
    "        auc_score = split_and_predict(test_data, random_forest_ad, test_y, split_ratio,random_state)\n",
    "        auc_scores[i, j] = auc_score\n",
    "        if split_ratio==0:\n",
    "            auc_score30_split_Baseline.append(auc_score)\n",
    "            print(\"Random State가 \",i+1,\" 일 때 \", \"Baseline model: \",auc_score)\n",
    "        # 분할 비율이 1일 때의 결과 출력 (Advance 모델)\n",
    "        if split_ratio==1:\n",
    "            auc_score30_split_ad_BL.append(auc_score)\n",
    "            print(\"Random State가 \", i+1,\" 일 때 \",\"Advance model: \",auc_score)\n",
    "            \n",
    "# Calculate the average AUC scores\n",
    "average_auc_scores_VM_randomselection = auc_scores.mean(axis=0)\n",
    "\n",
    "\n",
    "# Plot the average AUC scores\n",
    "plt.figure(figsize=(10, 5))\n",
    "plt.plot(split_ratios, average_auc_scores_VM_randomselection, marker='o')\n",
    "plt.title('Average AUC Scores for Different Split Ratios')\n",
    "plt.xlabel('Advanced Inspection Rate (Cost)')\n",
    "plt.ylabel('Average AUC Score')\n",
    "plt.xticks([0, 0.2, 0.4, 0.6, 0.8, 1])\n",
    "plt.ylim(min(average_auc_scores_VM_randomselection), max(average_auc_scores_VM_randomselection))\n",
    "plt.grid()\n",
    "plt.show()"
   ]
  },
  {
   "cell_type": "code",
   "execution_count": 2,
   "metadata": {},
   "outputs": [
    {
     "name": "stdout",
     "output_type": "stream",
     "text": [
      "Baseline(vm) Model - Average AUC over 30 runs:  0.7230965002505472\n",
      "Baseline(vm) Model - Standard Deviation of AUC over 30 runs:  0.027680770184897535\n",
      "\n",
      "Advance Model - Average AUC over 30 runs:  0.7477177947886171\n",
      "Advance Model - Standard Deviation of AUC over 30 runs:  0.0286538310788744\n"
     ]
    }
   ],
   "source": [
    "import numpy as np\n",
    "# Convert the lists to numpy arrays\n",
    "auc_score30_split_Baseline_array = np.array(auc_score30_split_Baseline)\n",
    "auc_score30_split_ad_BL_array = np.array(auc_score30_split_ad_BL)\n",
    "\n",
    "# Calculate average and standard deviation for baseline model\n",
    "baseline_avg = auc_score30_split_Baseline_array.mean()\n",
    "baseline_std = auc_score30_split_Baseline_array.std()\n",
    "\n",
    "# Calculate average and standard deviation for advance model\n",
    "advance_avg = auc_score30_split_ad_BL_array.mean()\n",
    "advance_std = auc_score30_split_ad_BL_array.std()\n",
    "\n",
    "# Print the results\n",
    "print(\"Baseline(vm) Model - Average AUC over 30 runs: \", baseline_avg)\n",
    "print(\"Baseline(vm) Model - Standard Deviation of AUC over 30 runs: \", baseline_std)\n",
    "\n",
    "print(\"\\nAdvance Model - Average AUC over 30 runs: \", advance_avg)\n",
    "print(\"Advance Model - Standard Deviation of AUC over 30 runs: \", advance_std)"
   ]
  },
  {
   "cell_type": "code",
   "execution_count": 3,
   "metadata": {},
   "outputs": [
    {
     "data": {
      "text/plain": [
       "array([0.7230965 , 0.71966664, 0.71795785, 0.7208881 , 0.71978507,\n",
       "       0.72246234, 0.72820536, 0.73083264, 0.73752728, 0.74473121,\n",
       "       0.74771779])"
      ]
     },
     "execution_count": 3,
     "metadata": {},
     "output_type": "execute_result"
    }
   ],
   "source": [
    "average_auc_scores_VM_randomselection"
   ]
  },
  {
   "cell_type": "markdown",
   "metadata": {},
   "source": [
    "## KD - random selection"
   ]
  },
  {
   "cell_type": "code",
   "execution_count": 6,
   "metadata": {},
   "outputs": [
    {
     "name": "stdout",
     "output_type": "stream",
     "text": [
      "/home/iai/son/heo_jun/RF_new/recipe1/rf_module\n"
     ]
    },
    {
     "name": "stdout",
     "output_type": "stream",
     "text": [
      "Random State가  1  일 때  Baseline model:  0.7224310912566108\n",
      "Random State가  1  일 때  Advance model:  0.7381768910306123\n",
      "Random State가  2  일 때  Baseline model:  0.7214132848818796\n",
      "Random State가  2  일 때  Advance model:  0.7316193448713095\n",
      "Random State가  3  일 때  Baseline model:  0.7246021632583237\n",
      "Random State가  3  일 때  Advance model:  0.7353794612984371\n",
      "Random State가  4  일 때  Baseline model:  0.6940724939747399\n",
      "Random State가  4  일 때  Advance model:  0.7017344370236669\n",
      "Random State가  5  일 때  Baseline model:  0.7333442059831827\n",
      "Random State가  5  일 때  Advance model:  0.7407542659772675\n",
      "Random State가  6  일 때  Baseline model:  0.7411382334404472\n",
      "Random State가  6  일 때  Advance model:  0.7440244481673017\n",
      "Random State가  7  일 때  Baseline model:  0.7165763854357696\n",
      "Random State가  7  일 때  Advance model:  0.7332305086554771\n",
      "Random State가  8  일 때  Baseline model:  0.7186300028943859\n",
      "Random State가  8  일 때  Advance model:  0.7230145651945864\n",
      "Random State가  9  일 때  Baseline model:  0.7140069987280329\n",
      "Random State가  9  일 때  Advance model:  0.7380821044662151\n",
      "Random State가  10  일 때  Baseline model:  0.7331990710700566\n",
      "Random State가  10  일 때  Advance model:  0.7416550417424967\n",
      "Random State가  11  일 때  Baseline model:  0.7281493735840825\n",
      "Random State가  11  일 때  Advance model:  0.7423893612284964\n",
      "Random State가  12  일 때  Baseline model:  0.7139429265682176\n",
      "Random State가  12  일 때  Advance model:  0.7199056357067131\n",
      "Random State가  13  일 때  Baseline model:  0.7106012325993962\n",
      "Random State가  13  일 때  Advance model:  0.7416705444121978\n",
      "Random State가  14  일 때  Baseline model:  0.7049540214922696\n",
      "Random State가  14  일 때  Advance model:  0.7214215806804649\n",
      "Random State가  15  일 때  Baseline model:  0.6984011552273589\n",
      "Random State가  15  일 때  Advance model:  0.7200571046864944\n",
      "Random State가  16  일 때  Baseline model:  0.7206294566019179\n",
      "Random State가  16  일 때  Advance model:  0.7301226514702266\n",
      "Random State가  17  일 때  Baseline model:  0.7092188267080826\n",
      "Random State가  17  일 때  Advance model:  0.7137962621691801\n",
      "Random State가  18  일 때  Baseline model:  0.7152706699630412\n",
      "Random State가  18  일 때  Advance model:  0.7247652779433335\n",
      "Random State가  19  일 때  Baseline model:  0.7161371736064596\n",
      "Random State가  19  일 때  Advance model:  0.733881321535677\n",
      "Random State가  20  일 때  Baseline model:  0.7188820688225435\n",
      "Random State가  20  일 때  Advance model:  0.7448046023561066\n",
      "Random State가  21  일 때  Baseline model:  0.7422485737128254\n",
      "Random State가  21  일 때  Advance model:  0.7511290349126771\n",
      "Random State가  22  일 때  Baseline model:  0.725006147037128\n",
      "Random State가  22  일 때  Advance model:  0.7395867694813697\n",
      "Random State가  23  일 때  Baseline model:  0.7235136181601847\n",
      "Random State가  23  일 때  Advance model:  0.7417008515080314\n",
      "Random State가  24  일 때  Baseline model:  0.7181136185259314\n",
      "Random State가  24  일 때  Advance model:  0.7365054289268678\n",
      "Random State가  25  일 때  Baseline model:  0.7075859176242163\n",
      "Random State가  25  일 때  Advance model:  0.7133954454237034\n",
      "Random State가  26  일 때  Baseline model:  0.7093808524656229\n",
      "Random State가  26  일 때  Advance model:  0.7358575586445628\n",
      "Random State가  27  일 때  Baseline model:  0.6975713592458173\n",
      "Random State가  27  일 때  Advance model:  0.7128960350238973\n",
      "Random State가  28  일 때  Baseline model:  0.7201106283809744\n",
      "Random State가  28  일 때  Advance model:  0.7328615617414393\n",
      "Random State가  29  일 때  Baseline model:  0.7067249168051102\n",
      "Random State가  29  일 때  Advance model:  0.7434952959164555\n",
      "Random State가  30  일 때  Baseline model:  0.7247545133549889\n",
      "Random State가  30  일 때  Advance model:  0.7453789243158834\n"
     ]
    },
    {
     "data": {
      "image/png": "[encoded data removed]",
      "text/plain": [
       "<Figure size 1000x500 with 1 Axes>"
      ]
     },
     "metadata": {},
     "output_type": "display_data"
    }
   ],
   "source": [
    "import pandas as pd\n",
    "import numpy as np\n",
    "import matplotlib.pyplot as plt\n",
    "from sklearn.model_selection import train_test_split\n",
    "from joblib import dump\n",
    "from joblib import load\n",
    "\n",
    "# 설치된 모듈 경로로 이동하기\n",
    "%cd /home/iai/son/heo_jun/RF_new/recipe1/rf_module\n",
    "\n",
    "# 모듈 함수 불러오기\n",
    "from split_and_predict import split_and_predict\n",
    "from train_regressor import train_regressor\n",
    "from test_predict_kd import test_predict_kd\n",
    "\n",
    "\n",
    "\n",
    "random_states = range(1, 31)\n",
    "\n",
    "# Define the split ratios\n",
    "split_ratios = [0, 0.1, 0.2, 0.3, 0.4, 0.5, 0.6, 0.7, 0.8, 0.9, 1]\n",
    "\n",
    "# Create an array to store the AUC scores for each random_state and split_ratio\n",
    "auc_scores = np.zeros((len(random_states), len(split_ratios)))\n",
    "\n",
    "data=pd.read_csv('/home/iai/son/activeinspection/data/activeinspection_recipe2.csv')\n",
    "X=data.iloc[:,3:-1].values\n",
    "Y=data.iloc[:,-1].values\n",
    "data_X = pd.DataFrame(X)\n",
    "data_y= pd.DataFrame(Y)\n",
    "data_y = data_y.rename(columns={0: '0.1'})\n",
    "\n",
    "auc_score30_split_Baseline=[]\n",
    "auc_score30_split_ad_BL=[]\n",
    "# Loop through the random_states\n",
    "for i, random_state in enumerate(random_states):\n",
    "    train_X,test_X,train_y,test_y=train_test_split(data_X,data_y,test_size=0.5,shuffle=True,stratify=data_y,random_state=random_state)\n",
    "    \n",
    "\n",
    "    random_forest_ad=load('/home/iai/son/heo_jun/RF_new/recipe2/randomforest/advance_model_recipe2/advancemodel_randomstate{}'.format(i))\n",
    "    random_forest_basic=load('/home/iai/son/heo_jun/RF_new/recipe2/randomforest/basic_model_recipe2/basicmodel_randomstate{}'.format(i))\n",
    "\n",
    "    # Create DataFrame for training probability\n",
    "    train_prob = pd.DataFrame()\n",
    "    train_prob['prob'] = random_forest_ad.predict_proba(train_X)[:, 1]\n",
    "\n",
    "    # Train a regressor model\n",
    "    test_stage_features = [0, 1, 2,3,4, 5, 6, 7]\n",
    "    train_X_new = train_X[test_stage_features]\n",
    "    random_forest_r = train_regressor(train_y)\n",
    "    random_forest_r.fit(train_X_new, train_prob['prob'])\n",
    "\n",
    "    test_data=pd.concat([test_X,test_y],axis=1)\n",
    "    \n",
    "    test_X_new=test_X[test_stage_features]\n",
    "    test_y=test_data['0.1']\n",
    "\n",
    "# 각각의 예측에 대해 biased margin을 계산\n",
    "    y_predictions = test_predict_kd(random_forest_r,test_X_new)\n",
    "    test_data['predictions'] = y_predictions\n",
    "    test_y=test_data['0.1']\n",
    "\n",
    "    dump(random_forest_r, '/home/iai/son/heo_jun/RF_new/recipe2/randomforest/kd_model_recipe2/kdmodel_randomstate{}'.format(i))\n",
    "    # basic model 로드하기\n",
    "    random_forest_r=load('/home/iai/son/heo_jun/RF_new/recipe2/randomforest/kd_model_recipe2/kdmodel_randomstate{}'.format(i))\n",
    "\n",
    "\n",
    "    # Loop through the split_ratios\n",
    "    for j, split_ratio in enumerate(split_ratios):\n",
    "        auc_score = split_and_predict(test_data, random_forest_ad, test_y, split_ratio,random_state)\n",
    "        auc_scores[i, j] = auc_score\n",
    "        if split_ratio==0:\n",
    "            auc_score30_split_Baseline.append(auc_score)\n",
    "            print(\"Random State가 \",i+1,\" 일 때 \", \"Baseline model: \",auc_score)\n",
    "        # 분할 비율이 1일 때의 결과 출력 (Advance 모델)\n",
    "        if split_ratio==1:\n",
    "            auc_score30_split_ad_BL.append(auc_score)\n",
    "            print(\"Random State가 \", i+1,\" 일 때 \",\"Advance model: \",auc_score)\n",
    "\n",
    "# Calculate the average AUC scores\n",
    "average_auc_scores_KD_randomselection = auc_scores.mean(axis=0)\n",
    "\n",
    "# Plot the average AUC scores\n",
    "plt.figure(figsize=(10, 5))\n",
    "plt.plot(split_ratios, average_auc_scores_KD_randomselection, marker='o')\n",
    "plt.title('Average AUC Scores for Different Split Ratios')\n",
    "plt.xlabel('Advanced Inspection Rate (Cost)')\n",
    "plt.ylabel('Average AUC Score')\n",
    "plt.xticks([0, 0.2, 0.4, 0.6, 0.8, 1])\n",
    "plt.ylim(min(average_auc_scores_KD_randomselection), max(average_auc_scores_KD_randomselection))\n",
    "plt.grid()\n",
    "plt.show()"
   ]
  },
  {
   "cell_type": "code",
   "execution_count": 7,
   "metadata": {},
   "outputs": [
    {
     "name": "stdout",
     "output_type": "stream",
     "text": [
      "Baseline Model(KD) - Average AUC over 30 runs:  0.7176870327136533\n",
      "Baseline Model(KD) - Standard Deviation of AUC over 30 runs:  0.01145087617526682\n",
      "\n",
      "Advance Model - Average AUC over 30 runs:  0.7324430772170384\n",
      "Advance Model - Standard Deviation of AUC over 30 runs:  0.011727837781914071\n"
     ]
    }
   ],
   "source": [
    "import numpy as np\n",
    "# Convert the lists to numpy arrays\n",
    "auc_score30_split_Baseline_array = np.array(auc_score30_split_Baseline)\n",
    "auc_score30_split_ad_BL_array = np.array(auc_score30_split_ad_BL)\n",
    "\n",
    "# Calculate average and standard deviation for baseline model\n",
    "baseline_avg = auc_score30_split_Baseline_array.mean()\n",
    "baseline_std = auc_score30_split_Baseline_array.std()\n",
    "\n",
    "# Calculate average and standard deviation for advance model\n",
    "advance_avg = auc_score30_split_ad_BL_array.mean()\n",
    "advance_std = auc_score30_split_ad_BL_array.std()\n",
    "\n",
    "# Print the results\n",
    "print(\"Baseline Model(KD) - Average AUC over 30 runs: \", baseline_avg)\n",
    "print(\"Baseline Model(KD) - Standard Deviation of AUC over 30 runs: \", baseline_std)\n",
    "\n",
    "print(\"\\nAdvance Model - Average AUC over 30 runs: \", advance_avg)\n",
    "print(\"Advance Model - Standard Deviation of AUC over 30 runs: \", advance_std)"
   ]
  },
  {
   "cell_type": "code",
   "execution_count": 8,
   "metadata": {},
   "outputs": [
    {
     "data": {
      "text/plain": [
       "array([0.71768703, 0.71798579, 0.71936147, 0.72054548, 0.72338162,\n",
       "       0.72420557, 0.72528645, 0.72699511, 0.72843673, 0.73096015,\n",
       "       0.73244308])"
      ]
     },
     "execution_count": 8,
     "metadata": {},
     "output_type": "execute_result"
    }
   ],
   "source": [
    "average_auc_scores_KD_randomselection"
   ]
  }
 ],
 "metadata": {
  "kernelspec": {
   "display_name": "son",
   "language": "python",
   "name": "python3"
  },
  "language_info": {
   "codemirror_mode": {
    "name": "ipython",
    "version": 3
   },
   "file_extension": ".py",
   "mimetype": "text/x-python",
   "name": "python",
   "nbconvert_exporter": "python",
   "pygments_lexer": "ipython3",
   "version": "3.9.0"
  },
  "orig_nbformat": 4
 },
 "nbformat": 4,
 "nbformat_minor": 2
}
